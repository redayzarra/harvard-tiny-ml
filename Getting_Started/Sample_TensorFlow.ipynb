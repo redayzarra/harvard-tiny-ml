{
  "cells": [
    {
      "cell_type": "markdown",
      "metadata": {
        "id": "tlW3ksFozceu"
      },
      "source": [
        "# Sample TensorFlow - Custom Neural Network Model\n",
        "\n"
      ]
    },
    {
      "cell_type": "markdown",
      "metadata": {
        "id": "k6qIpMON0D-f"
      },
      "source": [
        "This is just a sample TensorFlow code that we will be using in the course to \n",
        "build machine learning models. TensorFlow is a Python interface to build custom\n",
        "neural networks, it runs custom C++ code under the hood."
      ]
    },
    {
      "cell_type": "markdown",
      "metadata": {
        "id": "l_LulNCC8z96"
      },
      "source": [
        "## Importing TensorFlow"
      ]
    },
    {
      "cell_type": "code",
      "execution_count": 8,
      "metadata": {
        "id": "cTUZ23V2ymZn"
      },
      "outputs": [],
      "source": [
        "import tensorflow as tf"
      ]
    },
    {
      "cell_type": "markdown",
      "metadata": {
        "id": "AoyurJDhy-i_"
      },
      "source": [
        "Calls on the TensorFlow library, which should already be downloaded, and imports it as 'tf' so we can call on it with just 'tf'"
      ]
    },
    {
      "cell_type": "markdown",
      "metadata": {
        "id": "zuztg7duy_Dv"
      },
      "source": [
        "## Defining custom neural network model and layer types\n"
      ]
    },
    {
      "cell_type": "code",
      "execution_count": 9,
      "metadata": {
        "id": "6Hl90h_6zGB2"
      },
      "outputs": [],
      "source": [
        "class ReDays_Model(tf.keras.Model):\n",
        "  def __init__(self) -> None: # The None is just a type hint that it does not return anything\n",
        "    super(ReDays_Model, self).__init__()\n",
        "\n",
        "    \n",
        "    self.conv = tf.keras.layers.Conv2D(32, 3, activation='relu')\n",
        "\n",
        "    self.flatten = tf.keras.layers.Flatten()\n",
        "\n",
        "    self.dense1 = tf.keras.layers.Dense(128, activation='relu')\n",
        "\n",
        "    self.dense2 = tf.keras.layers.Dense(10)"
      ]
    },
    {
      "cell_type": "markdown",
      "metadata": {
        "id": "eY6FqZZxzGIO"
      },
      "source": [
        "1. Create a class called \"ReDays_Model\" that accepts the Keras class as a parameter. The \"tf.keras.Model\" is a subclass used to define a model for training and evaluation with the TensorFlow library. \n",
        "\n",
        "\n",
        "---\n",
        "\n",
        "\n",
        "2. The constructor or the \"__init__\" method of the \"ReDays_Model\" class allows you to:\n",
        "\n",
        "\n",
        "---\n",
        "\n",
        "\n",
        "3. Call the \"super()\" function which returns a temporary object of the superclass:\n",
        "\n",
        "\n",
        "*   This calls the \"__init__\" method of the \"tf.\n",
        "keras.Model\" class using \"super().__init__()\"\n",
        "\n",
        "  > Which initializes the \"ReDays_Model\" object as an instance of the \"tf.keras.Model\" class.\n",
        "\n",
        "\n",
        "---\n",
        "\n",
        "\n",
        "4. The \"self.conv\" is an attribute that performs 2D convolutional operations on the input data. \n",
        "\n",
        "\n",
        "*   The \"32\" parameter specifies the number of filters (also known as \"kernels\" or \"channels\") used by the convolutional layer\n",
        "\n",
        "*   The 3 parameter specifies the size of the convolutional kernel (the window of pixels that the layer uses to compute the convolution).\n",
        "\n",
        "*   The \"activation\" parameter specifies the activation function to use after the convolutional operation. \n",
        "  > The 'relu' string specifies that the ReLU activation function should be used.\n",
        "\n",
        "\n",
        "---\n",
        "\n",
        "\n",
        "\n",
        "5. The self.flatten attribute is used to flatten the input tensor into a one-dimensional tensor (a vector) by concatenating all of its dimensions.\n",
        "\n",
        "\n",
        "---\n",
        "\n",
        "\n",
        "\n",
        "6. The self.dense1 attribute is a fully-connected (dense) layer.\n",
        "\n",
        "\n",
        "*   The 128 parameter specifies the number of neurons (units) in the layer\n",
        "*   The activation parameter specifies the activation function to use for the layer.\n",
        "  > The 'relu' string specifies that the ReLU activation function should be used."
      ]
    },
    {
      "cell_type": "markdown",
      "metadata": {
        "id": "QKCZHTRYzHN2"
      },
      "source": [
        "## Evaluating each layer on input data"
      ]
    },
    {
      "cell_type": "code",
      "execution_count": 10,
      "metadata": {
        "id": "t7bobAWZzWMo"
      },
      "outputs": [],
      "source": [
        "def call(self, x):\n",
        "\n",
        "  \n",
        "  x = self.conv(x)\n",
        "\n",
        "  x = self.flatten(x)\n",
        "\n",
        "  x = self.dense1(x)\n",
        "\n",
        "  x = self.dense2(x)"
      ]
    },
    {
      "cell_type": "markdown",
      "metadata": {
        "id": "HWVSgcHOzWUm"
      },
      "source": [
        "1. The \"call\" method takes an input tensor \"x\" as an argument and applies the layers of the model to it in the order they were defined. The output of each layer is passed as the input to the next layer.\n",
        "\n",
        "---\n",
        "\n",
        "2. The input tensor \"x\" is first passed through the \"self.conv\" layer using the (x) syntax\n",
        "  > Which calls the \"call\" method of the self.conv layer and passes \"x\" as the argument.\n",
        "\n",
        "\n",
        "---\n",
        "\n",
        "3. The output of the \"self.conv\" layer is then passed through the \"self.flatten\" layer, and so on.\n",
        "\n",
        "---\n",
        "4. The final output of the call method is the output of the \"self.dense2\" layer, which is the output of the model for the given input \"x\".\n"
      ]
    },
    {
      "cell_type": "markdown",
      "metadata": {
        "id": "PYcaLaN2-Y2P"
      },
      "source": [
        "## Creating an instance of the model"
      ]
    },
    {
      "cell_type": "code",
      "execution_count": 11,
      "metadata": {
        "id": "P-Z1ZI6k-fqH"
      },
      "outputs": [],
      "source": [
        "model = ReDays_Model()"
      ]
    },
    {
      "cell_type": "markdown",
      "metadata": {
        "id": "XJdL_tmF-ugO"
      },
      "source": [
        "This code creates an instance of the \"ReDays_Model\" class, which is a neural network model defined using the TensorFlow \"tf.keras\" API."
      ]
    }
  ],
  "metadata": {
    "colab": {
      "provenance": []
    },
    "kernelspec": {
      "display_name": "Python 3",
      "name": "python3"
    },
    "language_info": {
      "name": "python"
    }
  },
  "nbformat": 4,
  "nbformat_minor": 0
}
